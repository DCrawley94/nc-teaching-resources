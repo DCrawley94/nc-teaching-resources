{
 "cells": [
  {
   "cell_type": "markdown",
   "id": "4ac2dfba-d71d-4646-a8dd-74850d1a825c",
   "metadata": {},
   "source": [
    "# Introduction to Pandas and Dataframes\n",
    "\n",
    "We can use `pandas` for programmatic manipulation of large data sets."
   ]
  },
  {
   "cell_type": "code",
   "execution_count": null,
   "id": "99c333db-4f6b-4081-981b-737b29c10a18",
   "metadata": {},
   "outputs": [],
   "source": [
    "import pandas as pd"
   ]
  },
  {
   "cell_type": "markdown",
   "id": "3c78f8f8-f9db-4005-b6fd-88c00914ca8b",
   "metadata": {},
   "source": [
    "## Series\n",
    "\n",
    "The basic `pandas` object is the `Series`"
   ]
  },
  {
   "cell_type": "code",
   "execution_count": null,
   "id": "2eae9b6e-2ea7-41af-8f1e-d74c30bb0ac7",
   "metadata": {},
   "outputs": [],
   "source": [
    "l1 = [19.3, 2.67, 47.1, 0.000032, 1562.9986]\n",
    "s1 = pd.Series(l1)\n",
    "s1"
   ]
  },
  {
   "cell_type": "code",
   "execution_count": null,
   "id": "2950bf81-d7c1-4fd3-8cde-fdc26c7d10c3",
   "metadata": {},
   "outputs": [],
   "source": [
    "s2 = s1 + 3\n",
    "s2"
   ]
  },
  {
   "cell_type": "code",
   "execution_count": null,
   "id": "29bb0290-092a-48c5-a423-fab760bc7b49",
   "metadata": {},
   "outputs": [],
   "source": [
    "dir(s1)"
   ]
  },
  {
   "cell_type": "markdown",
   "id": "574a8797-375b-4fcd-b4ce-f4ebdf77e5e9",
   "metadata": {},
   "source": [
    "### Key properties\n",
    "- values\n",
    "- `dtype`\n",
    "- index"
   ]
  },
  {
   "cell_type": "code",
   "execution_count": null,
   "id": "5aa99749-12dc-46b9-9a44-5902dc53a775",
   "metadata": {},
   "outputs": [],
   "source": [
    "s1.values"
   ]
  },
  {
   "cell_type": "markdown",
   "id": "a8cbebb8-e8de-40ac-a379-8b35bd283bc1",
   "metadata": {},
   "source": [
    "This `array` is a `numpy` array. We can use it to do lots of different maths operations."
   ]
  },
  {
   "cell_type": "code",
   "execution_count": null,
   "id": "c2691ca3-2cab-4a1d-b237-048c07451f9f",
   "metadata": {},
   "outputs": [],
   "source": [
    "s1.values * 3"
   ]
  },
  {
   "cell_type": "code",
   "execution_count": null,
   "id": "c8e41b96-5bd5-4937-80a8-8ac1f072a524",
   "metadata": {},
   "outputs": [],
   "source": [
    "s1"
   ]
  },
  {
   "cell_type": "code",
   "execution_count": null,
   "id": "8973ed6b-adea-4ffa-b7e7-45710cc05877",
   "metadata": {},
   "outputs": [],
   "source": [
    "s1.index"
   ]
  },
  {
   "cell_type": "markdown",
   "id": "65bcf4e8-4c35-4d01-87c5-4b12e1a7e519",
   "metadata": {},
   "source": [
    "#### We can access and slice elements in the expected way."
   ]
  },
  {
   "cell_type": "code",
   "execution_count": null,
   "id": "f8012cff-4b41-482a-8731-a8cef4ef58ae",
   "metadata": {},
   "outputs": [],
   "source": [
    "s1[2]"
   ]
  },
  {
   "cell_type": "code",
   "execution_count": null,
   "id": "b1989cf7-ebf6-4a9a-8d1d-024b99e6b721",
   "metadata": {},
   "outputs": [],
   "source": [
    "s1[1:3]"
   ]
  },
  {
   "cell_type": "markdown",
   "id": "99aa872b-13ca-42a0-8f78-8bc097575474",
   "metadata": {},
   "source": [
    "There are lots of available methods."
   ]
  },
  {
   "cell_type": "code",
   "execution_count": null,
   "id": "af30e33d-eeff-44f5-a383-6c880bee9356",
   "metadata": {},
   "outputs": [],
   "source": [
    "s1.mean()"
   ]
  },
  {
   "cell_type": "code",
   "execution_count": null,
   "id": "82372250-a5f2-47ea-80ca-4135ccdc8a4d",
   "metadata": {},
   "outputs": [],
   "source": [
    "s1.where(s1 > 10)"
   ]
  },
  {
   "cell_type": "code",
   "execution_count": null,
   "id": "575bfb31-caae-471b-8e0b-d548ca6b3680",
   "metadata": {},
   "outputs": [],
   "source": [
    "s1[s1 > 10]"
   ]
  },
  {
   "cell_type": "markdown",
   "id": "a062e101-bbbe-45c2-9157-e9883a10dcba",
   "metadata": {},
   "source": [
    "### We can create Series with an arbitrary index"
   ]
  },
  {
   "cell_type": "code",
   "execution_count": null,
   "id": "c5226d27-f249-4d82-8033-66fa2534afaa",
   "metadata": {},
   "outputs": [],
   "source": [
    "l2 = [3.2, 9, 'A', False]\n",
    "idx = ['my flt', 'my int', 'my str', 'my str']\n",
    "s2 = pd.Series(l2, index = idx)"
   ]
  },
  {
   "cell_type": "code",
   "execution_count": null,
   "id": "d3b469d9-0f8d-4134-8b87-b0c3e613964c",
   "metadata": {},
   "outputs": [],
   "source": [
    "s2.values"
   ]
  },
  {
   "cell_type": "code",
   "execution_count": null,
   "id": "9a95f675-4827-4666-9118-bb99e4789dfa",
   "metadata": {},
   "outputs": [],
   "source": [
    "s2"
   ]
  },
  {
   "cell_type": "code",
   "execution_count": null,
   "id": "61816a3b-a769-48df-ac04-a2de6facab36",
   "metadata": {},
   "outputs": [],
   "source": [
    "s2['my str']"
   ]
  },
  {
   "cell_type": "code",
   "execution_count": null,
   "id": "c23b1945-b0a2-4ae5-b907-b5730cfb9c3f",
   "metadata": {},
   "outputs": [],
   "source": [
    "s2.index"
   ]
  },
  {
   "cell_type": "markdown",
   "id": "fef84d70-acdf-4fcf-818b-53b4b16403cf",
   "metadata": {},
   "source": [
    "#### This is obviously reminiscent of dictionaries..."
   ]
  },
  {
   "cell_type": "code",
   "execution_count": null,
   "id": "2ecc7f28-8e75-4728-9ebb-f7b25ee7cea0",
   "metadata": {},
   "outputs": [],
   "source": [
    "d3 = {'name': 'Simon', 'game': 'Warcraft', 'nerd_score': 148, 'interests': 'rocks', 'shaves': False}\n",
    "s3 = pd.Series(d3)\n",
    "s3"
   ]
  },
  {
   "cell_type": "markdown",
   "id": "bea38c59-d816-40be-84ad-1c6b8ede0738",
   "metadata": {},
   "source": [
    "#### ... but Series have lots of extra attributes, including the ability to slice with non-numeric indices."
   ]
  },
  {
   "cell_type": "code",
   "execution_count": null,
   "id": "7bb1f714-2e3d-4f15-81d9-d5b8a9b5847d",
   "metadata": {},
   "outputs": [],
   "source": [
    "s3['game':'interests'] # notice what gets returned..."
   ]
  },
  {
   "cell_type": "markdown",
   "id": "a834b99c-8adc-429d-9efc-e837900331f0",
   "metadata": {},
   "source": [
    "## Dataframes\n",
    "\n",
    "The most commonly used (and most important) structure in `pandas` is the **dataframe**. It is two-dimensional rather than one-dimensional."
   ]
  },
  {
   "cell_type": "code",
   "execution_count": null,
   "id": "db0f4727-e7b0-4ab7-9ace-74a77f3884f8",
   "metadata": {},
   "outputs": [],
   "source": [
    "stock_dict = {'trainers': 78, 'basketballs': 27, 'cricket bats': 38, 'wetsuits': 12}\n",
    "prices_dict = {'trainers': 102.20, 'basketballs': 22.40, 'cricket bats': 61.38, 'wetsuits': 98.24}"
   ]
  },
  {
   "cell_type": "code",
   "execution_count": null,
   "id": "ebe02305-f5bf-4b8d-8d52-b41a275e19ae",
   "metadata": {},
   "outputs": [],
   "source": [
    "stock = pd.Series(stock_dict)\n",
    "price = pd.Series(prices_dict)"
   ]
  },
  {
   "cell_type": "code",
   "execution_count": null,
   "id": "dfacbbba-3081-4ce4-bdf7-14e4573a0c2e",
   "metadata": {},
   "outputs": [],
   "source": [
    "inventory = pd.DataFrame({\"stock\": stock, \"price\": price})"
   ]
  },
  {
   "cell_type": "code",
   "execution_count": null,
   "id": "d88b2e75-5560-4611-9ed6-c9fa15847553",
   "metadata": {},
   "outputs": [],
   "source": [
    "inventory"
   ]
  },
  {
   "cell_type": "code",
   "execution_count": null,
   "id": "49909b8e-141a-4867-a36d-c8de79bf70c7",
   "metadata": {},
   "outputs": [],
   "source": [
    "dir(inventory)"
   ]
  },
  {
   "cell_type": "markdown",
   "id": "8f3ad090-f4a3-49b2-8ad4-f57e3f155f51",
   "metadata": {},
   "source": [
    "### Again it has some important properties\n",
    "- index\n",
    "- dtypes\n",
    "- columns\n",
    "- values\n"
   ]
  },
  {
   "cell_type": "code",
   "execution_count": null,
   "id": "6482997c-0871-41c2-aafd-4bd80ab0a697",
   "metadata": {},
   "outputs": [],
   "source": [
    "inventory.index"
   ]
  },
  {
   "cell_type": "code",
   "execution_count": null,
   "id": "8e3fc326-c12b-444a-8154-eb45f15ee987",
   "metadata": {
    "scrolled": true
   },
   "outputs": [],
   "source": [
    "inventory.dtypes"
   ]
  },
  {
   "cell_type": "code",
   "execution_count": null,
   "id": "9b18b004-010e-466f-932f-b0fb024e4f49",
   "metadata": {
    "scrolled": true
   },
   "outputs": [],
   "source": [
    "inventory.columns"
   ]
  },
  {
   "cell_type": "code",
   "execution_count": null,
   "id": "80ba1200-74bf-41be-a989-ab9637ca52fc",
   "metadata": {},
   "outputs": [],
   "source": [
    "inventory.values"
   ]
  },
  {
   "cell_type": "markdown",
   "id": "5fe9d593-2c37-4f2f-a44d-ed8042a732f6",
   "metadata": {},
   "source": [
    "#### Selecting a column (Series)"
   ]
  },
  {
   "cell_type": "code",
   "execution_count": null,
   "id": "ffe9aad9-478a-4b16-b27d-9cb2b1481a06",
   "metadata": {},
   "outputs": [],
   "source": [
    "inventory['price']"
   ]
  },
  {
   "cell_type": "code",
   "execution_count": null,
   "id": "4f0efcdf-dee1-4fb2-a3b8-c1d056b5978e",
   "metadata": {},
   "outputs": [],
   "source": [
    "inventory.price"
   ]
  },
  {
   "cell_type": "markdown",
   "id": "5bb896ee-45f6-4034-8acc-bf7b2e731ecc",
   "metadata": {},
   "source": [
    "#### Creating a new column calculated from other columns"
   ]
  },
  {
   "cell_type": "code",
   "execution_count": null,
   "id": "3a301232-005c-4695-b063-43ec2796a87a",
   "metadata": {},
   "outputs": [],
   "source": [
    "inventory['new_value'] = inventory['stock']*inventory['price']"
   ]
  },
  {
   "cell_type": "code",
   "execution_count": null,
   "id": "749abdc6-1df7-476c-9a17-81e1ef0c5419",
   "metadata": {},
   "outputs": [],
   "source": [
    "inventory"
   ]
  },
  {
   "cell_type": "markdown",
   "id": "d6e0a78d-16bc-4c71-b189-ecde2b99cd3e",
   "metadata": {},
   "source": [
    "#### Column operations are just Series operations"
   ]
  },
  {
   "cell_type": "code",
   "execution_count": null,
   "id": "acfeb9f1-5aff-444e-9628-7c897d0502c2",
   "metadata": {},
   "outputs": [],
   "source": [
    "inventory.new_value.sum()"
   ]
  },
  {
   "cell_type": "markdown",
   "id": "47a1d5ed-7d32-41a6-97e0-2da0feb17471",
   "metadata": {},
   "source": [
    "#### Slicing and selecting rows and columns"
   ]
  },
  {
   "cell_type": "code",
   "execution_count": null,
   "id": "ad1aaf96-cffb-49aa-b925-fe85eac3e816",
   "metadata": {},
   "outputs": [],
   "source": [
    "inventory['basketballs':'cricket bats']"
   ]
  },
  {
   "cell_type": "code",
   "execution_count": null,
   "id": "17fbbc97-60fc-4fd4-bf70-ea609f752cd2",
   "metadata": {},
   "outputs": [],
   "source": [
    "inventory[1:2] # notice the difference!"
   ]
  },
  {
   "cell_type": "code",
   "execution_count": null,
   "id": "d04dc83d-688f-4915-b720-d0935c8eeb0b",
   "metadata": {},
   "outputs": [],
   "source": [
    "inventory['price':'new_value']"
   ]
  },
  {
   "cell_type": "code",
   "execution_count": null,
   "id": "7ee55470-3cb3-41f1-a50a-9b6be747b571",
   "metadata": {},
   "outputs": [],
   "source": [
    "inventory"
   ]
  },
  {
   "cell_type": "code",
   "execution_count": null,
   "id": "e982d095-4c29-40dd-baef-3c6dd07263ff",
   "metadata": {},
   "outputs": [],
   "source": [
    "inventory.loc['basketballs', 'price']"
   ]
  },
  {
   "cell_type": "code",
   "execution_count": null,
   "id": "7cdf8f7a-2c56-457f-843f-991ed4487664",
   "metadata": {},
   "outputs": [],
   "source": [
    "(inventory['price'] > 70.0)"
   ]
  },
  {
   "cell_type": "code",
   "execution_count": null,
   "id": "282f14fe-9149-4565-ae79-480498f9aeae",
   "metadata": {},
   "outputs": [],
   "source": [
    "inventory[inventory['price'] > 70.0]"
   ]
  },
  {
   "cell_type": "code",
   "execution_count": null,
   "id": "8d949941-a409-4473-95c7-cb8e6c60e0f5",
   "metadata": {},
   "outputs": [],
   "source": [
    "inventory.loc[inventory['price'] > 70.0]"
   ]
  },
  {
   "cell_type": "markdown",
   "id": "937a16ab-ee39-4115-9f9d-f99add79fef5",
   "metadata": {},
   "source": [
    "## File manipulation\n",
    "Pandas is capable of reading and writing data in a number of different formats"
   ]
  },
  {
   "cell_type": "code",
   "execution_count": null,
   "id": "0081418e-6748-4798-9595-3891bd881e5d",
   "metadata": {},
   "outputs": [],
   "source": [
    "flights_df = pd.read_csv('customer_booking.csv', encoding='utf-8', encoding_errors='ignore')"
   ]
  },
  {
   "cell_type": "code",
   "execution_count": null,
   "id": "106c81b0-792d-4d9e-8598-0d7a143ab433",
   "metadata": {},
   "outputs": [],
   "source": [
    "type(flights_df)"
   ]
  },
  {
   "cell_type": "code",
   "execution_count": null,
   "id": "df7a9701-cf70-46dc-994c-b0f6756f6e60",
   "metadata": {},
   "outputs": [],
   "source": [
    "flights_df.count()"
   ]
  },
  {
   "cell_type": "code",
   "execution_count": null,
   "id": "b35b06b5-269e-413f-8559-02d31bb558ea",
   "metadata": {},
   "outputs": [],
   "source": [
    "flights_df.head()"
   ]
  },
  {
   "cell_type": "code",
   "execution_count": null,
   "id": "35215c3c-0d21-4979-adbe-5495f00ac7e1",
   "metadata": {},
   "outputs": [],
   "source": [
    "flights_df.groupby('route').nunique()"
   ]
  },
  {
   "cell_type": "code",
   "execution_count": null,
   "id": "e6cb23f0-9a6c-4dc1-a600-e43eebbde742",
   "metadata": {},
   "outputs": [],
   "source": [
    "single_traveller_df = flights_df.query('num_passengers == 1')"
   ]
  },
  {
   "cell_type": "code",
   "execution_count": null,
   "id": "d892b2b6-2e03-4f31-9652-969da666249e",
   "metadata": {},
   "outputs": [],
   "source": [
    "single_traveller_df.head()"
   ]
  },
  {
   "cell_type": "code",
   "execution_count": null,
   "id": "4f222769-7082-4603-96cb-77496c9b9942",
   "metadata": {},
   "outputs": [],
   "source": [
    "single_traveller_df.count()"
   ]
  },
  {
   "cell_type": "code",
   "execution_count": null,
   "id": "c7fee0a3-9273-4bd0-88b3-9cccd4a58d09",
   "metadata": {},
   "outputs": [],
   "source": [
    "single_traveller_df.to_json('./single.json', orient='columns')"
   ]
  },
  {
   "cell_type": "code",
   "execution_count": null,
   "id": "747e7d7d-31df-4ab5-8434-0807f1dcce83",
   "metadata": {},
   "outputs": [],
   "source": [
    "single_traveller_df.to_parquet('./single.parquet', engine='auto', compression=None)"
   ]
  },
  {
   "cell_type": "code",
   "execution_count": null,
   "id": "ddb3b90e-1d7c-4e61-8f0d-fcf67eaeba82",
   "metadata": {},
   "outputs": [],
   "source": []
  }
 ],
 "metadata": {
  "kernelspec": {
   "display_name": "Python 3 (ipykernel)",
   "language": "python",
   "name": "python3"
  },
  "language_info": {
   "codemirror_mode": {
    "name": "ipython",
    "version": 3
   },
   "file_extension": ".py",
   "mimetype": "text/x-python",
   "name": "python",
   "nbconvert_exporter": "python",
   "pygments_lexer": "ipython3",
   "version": "3.13.0"
  }
 },
 "nbformat": 4,
 "nbformat_minor": 5
}
